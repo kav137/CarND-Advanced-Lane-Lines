{
 "cells": [
  {
   "cell_type": "code",
   "execution_count": 1,
   "metadata": {},
   "outputs": [
    {
     "name": "stdout",
     "output_type": "stream",
     "text": [
      "-----------------------\n",
      "None\n",
      "ffmpeg -version\n",
      "-----------------------\n"
     ]
    }
   ],
   "source": [
    "import glob\n",
    "import time\n",
    "import cv2\n",
    "import numpy as np\n",
    "import matplotlib.pyplot as plt\n",
    "import matplotlib.image as mpimg\n",
    "from moviepy.editor import VideoFileClip\n",
    "\n",
    "%matplotlib inline"
   ]
  },
  {
   "cell_type": "code",
   "execution_count": 2,
   "metadata": {},
   "outputs": [],
   "source": [
    "from src.calibrator import Calibrator\n",
    "from src.edges import get_mask\n",
    "from src.birdView import BirdView\n",
    "from src.lineFinder import LineFinder\n",
    "from src.measurements import Measurements\n",
    "from src.utils import show_info"
   ]
  },
  {
   "cell_type": "code",
   "execution_count": 3,
   "metadata": {},
   "outputs": [
    {
     "name": "stdout",
     "output_type": "stream",
     "text": [
      "Calibrator :: Calibration performed successfully\n"
     ]
    }
   ],
   "source": [
    "Calibrator.calibrate()"
   ]
  },
  {
   "cell_type": "code",
   "execution_count": 4,
   "metadata": {},
   "outputs": [],
   "source": [
    "left_line = None\n",
    "right_line = None\n",
    "\n",
    "def pipeline(image):\n",
    "    undistorted_image = Calibrator.undistort_image(image)\n",
    "    transformed_image = BirdView.transform_perspective(undistorted_image)\n",
    "    mask = get_mask(transformed_image)\n",
    "    \n",
    "    global left_line, right_line\n",
    "    \n",
    "    (left_line, right_line, left_fitx, right_fitx, ploty, result_img) = LineFinder.find_lines(\n",
    "        mask,\n",
    "        left_line,\n",
    "        right_line\n",
    "    )\n",
    "\n",
    "    left_curvature, right_curvature = Measurements.get_curvature(ploty, left_fitx, right_fitx)\n",
    "    shift = Measurements.get_shift(left_line, right_line)\n",
    "    \n",
    "    annotated_image = show_info(\n",
    "        undistorted_image, mask, left_fitx, right_fitx, ploty, left_curvature, right_curvature, shift\n",
    "    )\n",
    "\n",
    "    return annotated_image"
   ]
  },
  {
   "cell_type": "code",
   "execution_count": 5,
   "metadata": {},
   "outputs": [
    {
     "name": "stdout",
     "output_type": "stream",
     "text": [
      "-----------------------\n",
      "None\n",
      "C:\\Users\\Artyom\\AppData\\Local\\imageio\\ffmpeg\\ffmpeg.win32.exe -i project_video.mp4\n",
      "-----------------------\n",
      "-----------------------\n",
      "None\n",
      "C:\\Users\\Artyom\\AppData\\Local\\imageio\\ffmpeg\\ffmpeg.win32.exe -i project_video.mp4 -loglevel error -f image2pipe -vf scale=1280:720 -sws_flags bicubic -pix_fmt rgb24 -vcodec rawvideo -\n",
      "-----------------------\n",
      "-----------------------\n",
      "None\n",
      "C:\\Users\\Artyom\\AppData\\Local\\imageio\\ffmpeg\\ffmpeg.win32.exe -i project_video.mp4\n",
      "-----------------------\n",
      "-----------------------\n",
      "None\n",
      "C:\\Users\\Artyom\\AppData\\Local\\imageio\\ffmpeg\\ffmpeg.win32.exe -i project_video.mp4 -vn -loglevel error -f s16le -acodec pcm_s16le -ar 44100 -ac 2 -\n",
      "-----------------------\n",
      "[MoviePy] >>>> Building video result_video.mp4\n",
      "[MoviePy] Writing video result_video.mp4\n",
      "-----------------------\n",
      "None\n",
      "C:\\Users\\Artyom\\AppData\\Local\\imageio\\ffmpeg\\ffmpeg.win32.exe -y -loglevel error -f rawvideo -vcodec rawvideo -s 1280x720 -pix_fmt rgb24 -r 25.00 -i - -an -vcodec libx264 -preset medium -pix_fmt yuv420p result_video.mp4\n",
      "-----------------------\n"
     ]
    },
    {
     "name": "stderr",
     "output_type": "stream",
     "text": [
      "100%|█████████████████████████████████████████████████████████████████████████████▉| 1260/1261 [03:38<00:00,  5.89it/s]\n"
     ]
    },
    {
     "name": "stdout",
     "output_type": "stream",
     "text": [
      "[MoviePy] Done.\n",
      "[MoviePy] >>>> Video ready: result_video.mp4 \n",
      "\n",
      "Wall time: 3min 38s\n"
     ]
    }
   ],
   "source": [
    "clip_name = VideoFileClip('project_video.mp4')\n",
    "output_name = 'result_video.mp4'\n",
    "\n",
    "output = clip_name.fl_image(pipeline)\n",
    "%time output.write_videofile(output_name, audio=False)"
   ]
  },
  {
   "cell_type": "code",
   "execution_count": null,
   "metadata": {},
   "outputs": [],
   "source": []
  }
 ],
 "metadata": {
  "kernelspec": {
   "display_name": "Python 3",
   "language": "python",
   "name": "python3"
  },
  "language_info": {
   "codemirror_mode": {
    "name": "ipython",
    "version": 3
   },
   "file_extension": ".py",
   "mimetype": "text/x-python",
   "name": "python",
   "nbconvert_exporter": "python",
   "pygments_lexer": "ipython3",
   "version": "3.6.3"
  }
 },
 "nbformat": 4,
 "nbformat_minor": 2
}
